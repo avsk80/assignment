{
 "cells": [
  {
   "cell_type": "raw",
   "metadata": {},
   "source": [
    "Problem Statement 1:\n",
    "====================\n",
    "Blood glucose levels for obese patients have a mean of 100 with a standard deviation of 15. A researcher thinks that a diet high in raw cornstarch will have a positive effect on blood glucose levels. A sample of 36 patients who have tried the raw cornstarch diet have a mean glucose level of 108. Test the hypothesis that the raw cornstarch had an effect or not."
   ]
  },
  {
   "cell_type": "code",
   "execution_count": 8,
   "metadata": {},
   "outputs": [],
   "source": [
    "# population\n",
    "mu1 = 100\n",
    "sigma1 = 15\n",
    "# sample\n",
    "n1 = 36\n",
    "x1 = 108\n",
    "alpha1 = 0.05/2\n",
    "# H0 = \"diet high in raw cornstarch will have no effect on blood glucose levels\"\n",
    "# mu = 100\n",
    "# H1 = \"diet high in raw cornstarch will have a positive effect on blood glucose levels\"\n",
    "# mu != 100\n",
    "# alpha = 0.05/2 as it is two tailed test \n",
    "# as sample size is greater than 30 it should be z-test"
   ]
  },
  {
   "cell_type": "code",
   "execution_count": 9,
   "metadata": {},
   "outputs": [],
   "source": [
    "import numpy as np\n",
    "z = (x-mu)/(sigma/np.sqrt(n))"
   ]
  },
  {
   "cell_type": "code",
   "execution_count": 12,
   "metadata": {},
   "outputs": [
    {
     "name": "stdout",
     "output_type": "stream",
     "text": [
      "diet high in raw cornstarch will have a positive effect on blood glucose levels.so reject NULL\n"
     ]
    }
   ],
   "source": [
    "if z < alpha1:\n",
    "    print(\"diet high in raw cornstarch will have no effect on blood glucose levels.so accept NULL\")\n",
    "else:\n",
    "    print(\"diet high in raw cornstarch will have a positive effect on blood glucose levels.so reject NULL\")"
   ]
  },
  {
   "cell_type": "raw",
   "metadata": {},
   "source": [
    "Problem Statement 2:\n",
    "====================\n",
    "In one state, 52% of the voters are Republicans, and 48% are Democrats. In a second state, 47% of the voters are Republicans, \n",
    "and 53% are Democrats. Suppose a simple random sample of 100 voters are surveyed from each state.What is the \n",
    "probability that the survey will show a greater percentage of Republican voters in the second state than in the first state?"
   ]
  },
  {
   "cell_type": "code",
   "execution_count": 73,
   "metadata": {},
   "outputs": [],
   "source": [
    "p1 = 0.52\n",
    "p2 = 0.47\n",
    "n1 = 100\n",
    "n2 = 100"
   ]
  },
  {
   "cell_type": "code",
   "execution_count": 74,
   "metadata": {},
   "outputs": [],
   "source": [
    "var = p1*(1-p1)/n1+p2*(1-p2)/n2\n",
    "std_dev = np.sqrt(var)"
   ]
  },
  {
   "cell_type": "code",
   "execution_count": 75,
   "metadata": {},
   "outputs": [
    {
     "data": {
      "text/plain": [
       "0.07061869440877536"
      ]
     },
     "execution_count": 75,
     "metadata": {},
     "output_type": "execute_result"
    }
   ],
   "source": [
    "std_dev"
   ]
  },
  {
   "cell_type": "code",
   "execution_count": 76,
   "metadata": {},
   "outputs": [],
   "source": [
    "diff_prop = p1-p2"
   ]
  },
  {
   "cell_type": "code",
   "execution_count": 77,
   "metadata": {},
   "outputs": [
    {
     "data": {
      "text/plain": [
       "-0.7080278164104213"
      ]
     },
     "execution_count": 77,
     "metadata": {},
     "output_type": "execute_result"
    }
   ],
   "source": [
    "z_value = (0-diff_prop)/std_dev\n",
    "z_value"
   ]
  },
  {
   "cell_type": "code",
   "execution_count": 78,
   "metadata": {},
   "outputs": [
    {
     "data": {
      "text/plain": [
       "0.23946399182220013"
      ]
     },
     "execution_count": 78,
     "metadata": {},
     "output_type": "execute_result"
    }
   ],
   "source": [
    "import scipy.stats as st\n",
    "p_values = st.norm.sf(abs(z_value))\n",
    "p_values"
   ]
  },
  {
   "cell_type": "raw",
   "metadata": {},
   "source": [
    "Therefore, the probability that the survey will show a greater percentage of Republican voters in the second state \n",
    "than in the first state is 0.24"
   ]
  },
  {
   "cell_type": "raw",
   "metadata": {},
   "source": [
    "Problem Statement 3:\n",
    "====================\n",
    "You take the SAT and score 1100. The mean score for the SAT is 1026 and the standard deviation is 209.\n",
    "How well did you score on the test compared to the average test taker?"
   ]
  },
  {
   "cell_type": "code",
   "execution_count": 79,
   "metadata": {},
   "outputs": [
    {
     "data": {
      "text/plain": [
       "0.35406698564593303"
      ]
     },
     "execution_count": 79,
     "metadata": {},
     "output_type": "execute_result"
    }
   ],
   "source": [
    "mu = 1026\n",
    "sigma = 209\n",
    "x=1100\n",
    "z=(x-mu)/sigma\n",
    "z"
   ]
  },
  {
   "cell_type": "code",
   "execution_count": 82,
   "metadata": {},
   "outputs": [
    {
     "data": {
      "text/plain": [
       "0.6383556584353189"
      ]
     },
     "execution_count": 82,
     "metadata": {},
     "output_type": "execute_result"
    }
   ],
   "source": [
    "st.norm.cdf(abs(z))"
   ]
  },
  {
   "cell_type": "raw",
   "metadata": {},
   "source": [
    "1100 is better score 63% of total population"
   ]
  },
  {
   "cell_type": "code",
   "execution_count": null,
   "metadata": {},
   "outputs": [],
   "source": []
  }
 ],
 "metadata": {
  "kernelspec": {
   "display_name": "Python 3",
   "language": "python",
   "name": "python3"
  },
  "language_info": {
   "codemirror_mode": {
    "name": "ipython",
    "version": 3
   },
   "file_extension": ".py",
   "mimetype": "text/x-python",
   "name": "python",
   "nbconvert_exporter": "python",
   "pygments_lexer": "ipython3",
   "version": "3.7.4"
  }
 },
 "nbformat": 4,
 "nbformat_minor": 2
}
