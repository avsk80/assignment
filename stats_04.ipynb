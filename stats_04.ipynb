{
 "cells": [
  {
   "cell_type": "raw",
   "metadata": {},
   "source": [
    "Problem Statement 1:\n",
    "====================\n",
    "Is gender independent of education level? A random sample of 395 people were surveyed and each person was asked to \n",
    "report the highest education level they obtained. \n",
    "The data that resulted from the survey is summarized in the following table:\n",
    "    High School Bachelors Masters Ph.d. Total\n",
    "Female 60         54        46     41    201\n",
    "Male   40         44        53     57    194\n",
    "Total 100         98        99     98    395\n",
    "Question: Are gender and education level dependent at 5% level of significance? \n",
    "In other words, given the data collected above, \n",
    "is there a relationship between the gender of an individual and the level of education that they have obtained?"
   ]
  },
  {
   "cell_type": "raw",
   "metadata": {},
   "source": [
    "H0: There is no relationship\n",
    "H1: There is relationship"
   ]
  },
  {
   "cell_type": "code",
   "execution_count": 8,
   "metadata": {},
   "outputs": [],
   "source": [
    "# use chi-square test\n",
    "import pandas as pd\n",
    "import numpy as np"
   ]
  },
  {
   "cell_type": "code",
   "execution_count": 38,
   "metadata": {},
   "outputs": [],
   "source": [
    "list1=[60,40,100]\n",
    "list2=[54,44,98]\n",
    "list3=[46,53,99]\n",
    "list4=[41,57,98]\n",
    "list5=[201,194,395]\n",
    "data = {\n",
    "    'High_school':list1,\n",
    "    'Bachelors':list2,\n",
    "    'Masters':list3,\n",
    "    'Phd':list4,\n",
    "    'Total':list5\n",
    "}\n",
    "observed = pd.DataFrame( data = data,\n",
    "    index = ['Female','Male','Total'])"
   ]
  },
  {
   "cell_type": "code",
   "execution_count": 65,
   "metadata": {},
   "outputs": [
    {
     "data": {
      "text/plain": [
       "array([[60, 54, 46, 41],\n",
       "       [40, 44, 53, 57]], dtype=int64)"
      ]
     },
     "execution_count": 65,
     "metadata": {},
     "output_type": "execute_result"
    }
   ],
   "source": [
    "# observed data\n",
    "observed.iloc[:2,:4].values"
   ]
  },
  {
   "cell_type": "code",
   "execution_count": 66,
   "metadata": {
    "scrolled": true
   },
   "outputs": [],
   "source": [
    "import scipy.stats as stats\n",
    "chi2,p,dof,expected = stats.chi2_contingency(observed.iloc[:2,:4].values)"
   ]
  },
  {
   "cell_type": "code",
   "execution_count": 67,
   "metadata": {},
   "outputs": [
    {
     "data": {
      "text/plain": [
       "numpy.ndarray"
      ]
     },
     "execution_count": 67,
     "metadata": {},
     "output_type": "execute_result"
    }
   ],
   "source": [
    "type(expected)"
   ]
  },
  {
   "cell_type": "code",
   "execution_count": 68,
   "metadata": {},
   "outputs": [
    {
     "data": {
      "text/plain": [
       "8.006066246262538"
      ]
     },
     "execution_count": 68,
     "metadata": {},
     "output_type": "execute_result"
    }
   ],
   "source": [
    "chi2"
   ]
  },
  {
   "cell_type": "code",
   "execution_count": 69,
   "metadata": {},
   "outputs": [
    {
     "data": {
      "text/plain": [
       "0.045886500891747214"
      ]
     },
     "execution_count": 69,
     "metadata": {},
     "output_type": "execute_result"
    }
   ],
   "source": [
    "p"
   ]
  },
  {
   "cell_type": "code",
   "execution_count": 70,
   "metadata": {},
   "outputs": [
    {
     "data": {
      "text/plain": [
       "3"
      ]
     },
     "execution_count": 70,
     "metadata": {},
     "output_type": "execute_result"
    }
   ],
   "source": [
    "dof"
   ]
  },
  {
   "cell_type": "code",
   "execution_count": 72,
   "metadata": {},
   "outputs": [
    {
     "data": {
      "text/plain": [
       "array([[50.88607595, 49.86835443, 50.37721519, 49.86835443],\n",
       "       [49.11392405, 48.13164557, 48.62278481, 48.13164557]])"
      ]
     },
     "execution_count": 72,
     "metadata": {},
     "output_type": "execute_result"
    }
   ],
   "source": [
    "expected"
   ]
  },
  {
   "cell_type": "code",
   "execution_count": null,
   "metadata": {},
   "outputs": [],
   "source": [
    "calculated=pd.DataFrame(expected,columns=data_1.columns,index=['Female','Male','Total'])"
   ]
  },
  {
   "cell_type": "code",
   "execution_count": 80,
   "metadata": {},
   "outputs": [
    {
     "data": {
      "text/plain": [
       "8.006066246262538"
      ]
     },
     "execution_count": 80,
     "metadata": {},
     "output_type": "execute_result"
    }
   ],
   "source": [
    "man_chi2 = sum([(o-e)**2/e for o,e in zip(observed.iloc[:2,:4].values,expected)])\n",
    "sum(man_chi2)"
   ]
  },
  {
   "cell_type": "code",
   "execution_count": 82,
   "metadata": {},
   "outputs": [
    {
     "name": "stdout",
     "output_type": "stream",
     "text": [
      "there is relationship. Reject NULL\n"
     ]
    }
   ],
   "source": [
    "alpha=0.05\n",
    "if p>alpha:\n",
    "    print(\"there is no relationship. Accept NULL\")\n",
    "else:\n",
    "    print(\"there is relationship. Reject NULL\")"
   ]
  },
  {
   "cell_type": "raw",
   "metadata": {},
   "source": [
    "Problem Statement 2:\n",
    "Using the following data, perform a oneway analysis of variance using α=.05. Write up the results in APA format.\n",
    "[Group1: 51, 45, 33, 45, 67]\n",
    "[Group2: 23, 43, 23, 43, 45]\n",
    "[Group3: 56, 76, 74, 87, 56]"
   ]
  },
  {
   "cell_type": "raw",
   "metadata": {},
   "source": [
    "As there are more than 2 groups we use ANOVA\n",
    "NULL: all 3 groups have smae mean\n",
    "ALTERNATIVE : not same"
   ]
  },
  {
   "cell_type": "code",
   "execution_count": 88,
   "metadata": {},
   "outputs": [],
   "source": [
    "group1 = [51, 45, 33, 45, 67]\n",
    "group2 = [23, 43, 23, 43, 45]\n",
    "group3 = [56, 76, 74, 87, 56]\n",
    "alpha = 0.05\n",
    "n = 5\n",
    "N = 15\n",
    "no_of_groups = 3\n",
    "dof_btwn = no_of_groups - 1 # (no of groups - 1)\n",
    "dof_within = N - no_of_groups\n",
    "dof_total = N - 1"
   ]
  },
  {
   "cell_type": "code",
   "execution_count": 89,
   "metadata": {},
   "outputs": [],
   "source": [
    "import statsmodels.api\n",
    "from statsmodels.formula.api import ols"
   ]
  },
  {
   "cell_type": "code",
   "execution_count": 90,
   "metadata": {},
   "outputs": [
    {
     "data": {
      "text/plain": [
       "(2, 12)"
      ]
     },
     "execution_count": 90,
     "metadata": {},
     "output_type": "execute_result"
    }
   ],
   "source": [
    "dof_btwn,dof_within"
   ]
  },
  {
   "cell_type": "code",
   "execution_count": 129,
   "metadata": {},
   "outputs": [
    {
     "data": {
      "text/plain": [
       "3.8852938346523933"
      ]
     },
     "execution_count": 129,
     "metadata": {},
     "output_type": "execute_result"
    }
   ],
   "source": []
  },
  {
   "cell_type": "code",
   "execution_count": 99,
   "metadata": {},
   "outputs": [],
   "source": [
    "g1_mean = sum(group1)/len(group1)\n",
    "g2_mean = sum(group2)/len(group2)\n",
    "g3_mean = sum(group3)/len(group3)\n",
    "grand_mean = sum(group1+group2+group3)/(len(group1)+len(group2)+len(group3))"
   ]
  },
  {
   "cell_type": "code",
   "execution_count": 100,
   "metadata": {},
   "outputs": [
    {
     "data": {
      "text/plain": [
       "51.13333333333333"
      ]
     },
     "execution_count": 100,
     "metadata": {},
     "output_type": "execute_result"
    }
   ],
   "source": [
    "grand_mean"
   ]
  },
  {
   "cell_type": "code",
   "execution_count": 113,
   "metadata": {},
   "outputs": [],
   "source": [
    "# ss_between\n",
    "## sum of all groups ---> group_size*(group_mean - grand_mean)**2\n",
    "ss_btwn = len(group1)*(g1_mean - grand_mean)**2 + len(group2)*(g2_mean - grand_mean)**2 + len(group3)*(g3_mean - grand_mean)**2\n",
    "msst = ss_btwn/2"
   ]
  },
  {
   "cell_type": "code",
   "execution_count": 114,
   "metadata": {},
   "outputs": [
    {
     "data": {
      "text/plain": [
       "1511.4666666666665"
      ]
     },
     "execution_count": 114,
     "metadata": {},
     "output_type": "execute_result"
    }
   ],
   "source": [
    "msst"
   ]
  },
  {
   "cell_type": "code",
   "execution_count": 120,
   "metadata": {},
   "outputs": [
    {
     "data": {
      "text/plain": [
       "155.06666666666666"
      ]
     },
     "execution_count": 120,
     "metadata": {},
     "output_type": "execute_result"
    }
   ],
   "source": [
    "within_1 = sum([ (i-g1_mean)**2 for i in group1 ])\n",
    "within_2 = sum([ (i-g2_mean)**2 for i in group2 ])\n",
    "within_3 = sum([ (i-g3_mean)**2 for i in group3 ])\n",
    "ss_within = within_1 + within_2 + within_3\n",
    "msse = ss_within/(N-no_of_groups)\n",
    "msse"
   ]
  },
  {
   "cell_type": "code",
   "execution_count": 121,
   "metadata": {},
   "outputs": [
    {
     "data": {
      "text/plain": [
       "9.747205503009457"
      ]
     },
     "execution_count": 121,
     "metadata": {},
     "output_type": "execute_result"
    }
   ],
   "source": [
    "f = msst/msse\n",
    "f"
   ]
  },
  {
   "cell_type": "code",
   "execution_count": 131,
   "metadata": {},
   "outputs": [
    {
     "data": {
      "text/plain": [
       "0.003059754143443061"
      ]
     },
     "execution_count": 131,
     "metadata": {},
     "output_type": "execute_result"
    }
   ],
   "source": [
    "p = stats.f.sf(f, dof_btwn, dof_within)\n",
    "p"
   ]
  },
  {
   "cell_type": "code",
   "execution_count": 132,
   "metadata": {},
   "outputs": [],
   "source": [
    "import scipy.stats as stats\n",
    "\n",
    "f_pkg,p_pkg = stats.f_oneway(group1,group2,group3)"
   ]
  },
  {
   "cell_type": "code",
   "execution_count": 135,
   "metadata": {},
   "outputs": [
    {
     "name": "stdout",
     "output_type": "stream",
     "text": [
      "reject null\n",
      "APA format\n",
      "F(2,12) = 9.747205503009457, p < 0.05\n"
     ]
    }
   ],
   "source": [
    "if p_pkg > 0.05:\n",
    "    print(\"accept null. all 3 groups have same \")\n",
    "    print(\"APA format\")\n",
    "    print(\"F(\" + str(dof_btwn)+\",\"+str(dof_within)+\") = \" + str(f)+\", p > 0.05\")\n",
    "else:\n",
    "    print(\"reject null\")\n",
    "    print(\"APA format\")\n",
    "    print(\"F(\" + str(dof_btwn)+\",\"+str(dof_within)+\") = \" + str(f)+\", p < 0.05\")"
   ]
  },
  {
   "cell_type": "raw",
   "metadata": {},
   "source": [
    "Problem Statement 3:\n",
    "Calculate F Test for given 10, 20, 30, 40, 50 and 5,10,15, 20, 25.\n",
    "For 10, 20, 30, 40, 50:"
   ]
  },
  {
   "cell_type": "code",
   "execution_count": 136,
   "metadata": {},
   "outputs": [],
   "source": [
    "group_31 = [10, 20, 30, 40, 50]\n",
    "group_32 = [5, 10, 15, 20, 25]\n",
    "group_33 = [10, 20, 30, 40, 50]\n",
    "f_3,p_3 = stats.f_oneway(group_31,group_32,group_33)"
   ]
  },
  {
   "cell_type": "code",
   "execution_count": 137,
   "metadata": {},
   "outputs": [
    {
     "data": {
      "text/plain": [
       "2.0"
      ]
     },
     "execution_count": 137,
     "metadata": {},
     "output_type": "execute_result"
    }
   ],
   "source": [
    "f_3"
   ]
  },
  {
   "cell_type": "code",
   "execution_count": 138,
   "metadata": {},
   "outputs": [
    {
     "data": {
      "text/plain": [
       "0.177978515625"
      ]
     },
     "execution_count": 138,
     "metadata": {},
     "output_type": "execute_result"
    }
   ],
   "source": [
    "p_3"
   ]
  },
  {
   "cell_type": "code",
   "execution_count": 142,
   "metadata": {},
   "outputs": [
    {
     "name": "stdout",
     "output_type": "stream",
     "text": [
      "accept null. all 3 groups have same \n",
      "APA format\n",
      "F(2,3) = 2.0, p > 0.05\n"
     ]
    }
   ],
   "source": [
    "if p_3 > 0.05:\n",
    "    print(\"accept null. all 3 groups have same \")\n",
    "    print(\"APA format\")\n",
    "    print(\"F(\" + str(3-1)+\",\"+str(3)+\") = \" + str(f_3)+\", p > 0.05\")\n",
    "else:\n",
    "    print(\"reject null\")\n",
    "    print(\"APA format\")\n",
    "    print(\"F(\" + str(3-1)+\",\"+str(3)+\") = \" + str(f_3)+\", p < 0.05\")"
   ]
  },
  {
   "cell_type": "code",
   "execution_count": null,
   "metadata": {},
   "outputs": [],
   "source": []
  }
 ],
 "metadata": {
  "kernelspec": {
   "display_name": "Python 3",
   "language": "python",
   "name": "python3"
  },
  "language_info": {
   "codemirror_mode": {
    "name": "ipython",
    "version": 3
   },
   "file_extension": ".py",
   "mimetype": "text/x-python",
   "name": "python",
   "nbconvert_exporter": "python",
   "pygments_lexer": "ipython3",
   "version": "3.7.4"
  }
 },
 "nbformat": 4,
 "nbformat_minor": 2
}
