{
 "cells": [
  {
   "cell_type": "markdown",
   "metadata": {},
   "source": [
    "1.1 Write a Python Program(with class concepts) to find the area of the triangle using the below\n",
    "formula.\n",
    "area = (s*(s-a)*(s-b)*(s-c)) ** 0.5\n",
    "Function to take the length of the sides of triangle from user should be defined in the parent\n",
    "class and function to calculate the area should be defined in subclass."
   ]
  },
  {
   "cell_type": "code",
   "execution_count": 11,
   "metadata": {},
   "outputs": [
    {
     "name": "stdout",
     "output_type": "stream",
     "text": [
      "enter 3 comma saperated numbers 3,4,5\n",
      "entered no =  3,4,5\n",
      "['3', '4', '5']\n",
      "a= 3 , b= 4 , c= 5 \n",
      "area is = 18.0\n"
     ]
    }
   ],
   "source": [
    "class parent:\n",
    "    def __init__(self,a,b,c):\n",
    "        string_inp=input(\"enter 3 comma saperated numbers \")\n",
    "        print(\"entered no = \",string_inp)\n",
    "        list_of_sides=string_inp.split(',')\n",
    "        print(list_of_sides)\n",
    "        self.a=a\n",
    "        self.b=b\n",
    "        self.c=c\n",
    "        print(\"a= %d , b= %d , c= %d \" % (self.a,self.b,self.c))\n",
    "class child(parent):\n",
    "    def area(self):\n",
    "        #super().__init__(self.a,self.b,self.c)\n",
    "        s=(self.a+self.b+self.c)/2\n",
    "        area_of_triangle=(s*(s-self.a)*(s-self.b)*(s-self.c))/2\n",
    "        print(\"area is =\",area_of_triangle)\n",
    "        #return area_of_triangle\n",
    "if __name__=='__main__':\n",
    "    \n",
    "    #p=parent()\n",
    "    c=child(int(list_of_sides[0]),int(list_of_sides[1]),int(list_of_sides[2]))\n",
    "    c.area()\n",
    "    #c.area()"
   ]
  },
  {
   "cell_type": "markdown",
   "metadata": {},
   "source": [
    "1.2 Write a function filter_long_words() that takes a list of words and an integer n and returns\n",
    "the list of words that are longer than n."
   ]
  },
  {
   "cell_type": "code",
   "execution_count": 42,
   "metadata": {},
   "outputs": [],
   "source": [
    "class Custom_filter:\n",
    "    def __init__(self,ls,n):\n",
    "        self.ls=ls\n",
    "        self.n=n\n",
    "        self.result=self.filter_long_words(ls,n)\n",
    "    def my_filter(self,myfun,mylist):\n",
    "        ls=[]\n",
    "        for i in mylist:\n",
    "            if myfun(i):\n",
    "                ls.append(i)\n",
    "        return ls\n",
    "    def filter_long_words(self,low,n):\n",
    "        words= list(my_filter(lambda x: len(x)>n,low))\n",
    "        return words"
   ]
  },
  {
   "cell_type": "code",
   "execution_count": 44,
   "metadata": {},
   "outputs": [
    {
     "data": {
      "text/plain": [
       "['cccc']"
      ]
     },
     "execution_count": 44,
     "metadata": {},
     "output_type": "execute_result"
    }
   ],
   "source": [
    "c=Custom_filter(['aaa','bbb','cccc','d'],3)\n",
    "c.result"
   ]
  },
  {
   "cell_type": "markdown",
   "metadata": {},
   "source": [
    "2.1 Write a Python program using function concept that maps list of words into a list of integers\n",
    "representing the lengths of the corresponding words.\n",
    "Hint: If a list [ ab,cde,erty] is passed on to the python function output should come as [2,3,4]\n",
    "Here 2,3 and 4 are the lengths of the words in the list."
   ]
  },
  {
   "cell_type": "code",
   "execution_count": 49,
   "metadata": {},
   "outputs": [],
   "source": [
    "def my_map(myfn,myls):\n",
    "    ls=[]\n",
    "    for i in myls:\n",
    "        ls.append(myfn(i))\n",
    "    return ls"
   ]
  },
  {
   "cell_type": "code",
   "execution_count": 51,
   "metadata": {},
   "outputs": [
    {
     "data": {
      "text/plain": [
       "[2, 3, 4, 5]"
      ]
     },
     "execution_count": 51,
     "metadata": {},
     "output_type": "execute_result"
    }
   ],
   "source": [
    "low2=['ab','cde','erty','bdjdb']\n",
    "words2=list(my_map(lambda x: len(x),low2))\n",
    "words2"
   ]
  },
  {
   "cell_type": "markdown",
   "metadata": {},
   "source": [
    "2.2 Write a Python function which takes a character (i.e. a string of length 1) and returns True if\n",
    "it is a vowel, False otherwise."
   ]
  },
  {
   "cell_type": "code",
   "execution_count": 54,
   "metadata": {},
   "outputs": [
    {
     "data": {
      "text/plain": [
       "False"
      ]
     },
     "execution_count": 54,
     "metadata": {},
     "output_type": "execute_result"
    }
   ],
   "source": [
    "def vow_cons(char):\n",
    "    return (char=='a' or char=='e' or char=='i' or char=='u')\n",
    "vow_cons('d')"
   ]
  },
  {
   "cell_type": "code",
   "execution_count": null,
   "metadata": {},
   "outputs": [],
   "source": []
  }
 ],
 "metadata": {
  "kernelspec": {
   "display_name": "Python 3",
   "language": "python",
   "name": "python3"
  },
  "language_info": {
   "codemirror_mode": {
    "name": "ipython",
    "version": 3
   },
   "file_extension": ".py",
   "mimetype": "text/x-python",
   "name": "python",
   "nbconvert_exporter": "python",
   "pygments_lexer": "ipython3",
   "version": "3.7.4"
  }
 },
 "nbformat": 4,
 "nbformat_minor": 2
}
